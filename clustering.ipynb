{
  "nbformat": 4,
  "nbformat_minor": 0,
  "metadata": {
    "colab": {
      "name": "AI_lab2.ipynb",
      "provenance": [],
      "collapsed_sections": []
    },
    "kernelspec": {
      "name": "python3",
      "display_name": "Python 3"
    },
    "language_info": {
      "name": "python"
    }
  },
  "cells": [
    {
      "cell_type": "code",
      "metadata": {
        "id": "pQ6vvjLX0ieu"
      },
      "source": [
        "from sklearn.cluster import KMeans  #K-Means를 위한 도구\n",
        "from sklearn.datasets import make_blobs\n",
        "\n",
        "from matplotlib import pyplot as plt  # 그래프를 그리기 위한 도구"
      ],
      "execution_count": 1,
      "outputs": []
    },
    {
      "cell_type": "code",
      "metadata": {
        "id": "tilUopiw1Bpu"
      },
      "source": [
        "x, y = make_blobs(n_samples=150, n_features=2, centers=3, cluster_std=0.5, shuffle=True, random_state=0)"
      ],
      "execution_count": 2,
      "outputs": []
    },
    {
      "cell_type": "code",
      "metadata": {
        "colab": {
          "base_uri": "https://localhost:8080/",
          "height": 297
        },
        "id": "wC8PwExp1SaK",
        "outputId": "b35af9cc-7b69-4a87-c0a9-e1481f8f537d"
      },
      "source": [
        "plt.scatter(x[:,0], x[:,1], c='white', marker='o', edgecolors='black', s=50)\n",
        "plt.grid()\n",
        "plt.tight_layout()\n",
        "plt.show()"
      ],
      "execution_count": 3,
      "outputs": [
        {
          "output_type": "display_data",
          "data": {
            "image/png": "[encoded data removed]",
            "text/plain": [
              "<Figure size 432x288 with 1 Axes>"
            ]
          },
          "metadata": {
            "tags": [],
            "needs_background": "light"
          }
        }
      ]
    },
    {
      "cell_type": "code",
      "metadata": {
        "id": "9A4R-zRP1lJI"
      },
      "source": [
        "kmeans = KMeans(n_clusters=3, init=\"random\", n_init=10, max_iter=300, tol = 1e-04, random_state=0)\n",
        "pred = kmeans.fit_predict(x)"
      ],
      "execution_count": 4,
      "outputs": []
    },
    {
      "cell_type": "code",
      "metadata": {
        "colab": {
          "base_uri": "https://localhost:8080/"
        },
        "id": "dW_zEYwd2Dr_",
        "outputId": "c22d0834-74d6-4751-8fbe-8becc1b4ce1e"
      },
      "source": [
        "kmeans_plus = KMeans(n_clusters=3, init=\"k-means++\", n_init=10, max_iter=300, random_state=0)\n",
        "kmeans_plus.fit(x)"
      ],
      "execution_count": 5,
      "outputs": [
        {
          "output_type": "execute_result",
          "data": {
            "text/plain": [
              "KMeans(algorithm='auto', copy_x=True, init='k-means++', max_iter=300,\n",
              "       n_clusters=3, n_init=10, n_jobs=None, precompute_distances='auto',\n",
              "       random_state=0, tol=0.0001, verbose=0)"
            ]
          },
          "metadata": {
            "tags": []
          },
          "execution_count": 5
        }
      ]
    },
    {
      "cell_type": "code",
      "metadata": {
        "colab": {
          "base_uri": "https://localhost:8080/",
          "height": 315
        },
        "id": "iRyhg8Ko2VZ4",
        "outputId": "ead9bbad-8f0a-4867-ccab-9ab1ec492468"
      },
      "source": [
        "print('왜곡: %.2f' %kmeans_plus.inertia_)\n",
        "\n",
        "distortions = []\n",
        "\n",
        "for i in range(1,11):\n",
        "  kmeans_plus = KMeans(n_clusters=i, init=\"k-means++\", n_init=10, max_iter=300, random_state=0)\n",
        "  kmeans_plus.fit(x)\n",
        "  distortions.append(kmeans_plus.inertia_)\n",
        "\n",
        "plt.plot(range(1,11), distortions,marker='o')\n",
        "plt.xlabel('Number of clusters')\n",
        "plt.ylabel('Distortiion')\n",
        "plt.tight_layout()\n",
        "plt.show()"
      ],
      "execution_count": 6,
      "outputs": [
        {
          "output_type": "stream",
          "text": [
            "왜곡: 72.48\n"
          ],
          "name": "stdout"
        },
        {
          "output_type": "display_data",
          "data": {
            "image/png": "[encoded data removed]",
            "text/plain": [
              "<Figure size 432x288 with 1 Axes>"
            ]
          },
          "metadata": {
            "tags": [],
            "needs_background": "light"
          }
        }
      ]
    },
    {
      "cell_type": "code",
      "metadata": {
        "colab": {
          "base_uri": "https://localhost:8080/",
          "height": 204
        },
        "id": "lpzd-X8F3PFl",
        "outputId": "ad6804fa-5e09-47a1-cb0e-15883c17fb76"
      },
      "source": [
        "import pandas as pd\n",
        "import numpy as np\n",
        "\n",
        "np.random.seed(12)\n",
        "variables = ['x', 'y', 'z']\n",
        "labels = ['ID_0', 'ID_1', 'ID_2', 'ID_3', 'ID_4']\n",
        "\n",
        "x = np.random.random_sample([5,3])*10\n",
        "df = pd.DataFrame(x, columns=variables, index=labels)\n",
        "df"
      ],
      "execution_count": 7,
      "outputs": [
        {
          "output_type": "execute_result",
          "data": {
            "text/html": [
              "<div>\n",
              "<style scoped>\n",
              "    .dataframe tbody tr th:only-of-type {\n",
              "        vertical-align: middle;\n",
              "    }\n",
              "\n",
              "    .dataframe tbody tr th {\n",
              "        vertical-align: top;\n",
              "    }\n",
              "\n",
              "    .dataframe thead th {\n",
              "        text-align: right;\n",
              "    }\n",
              "</style>\n",
              "<table border=\"1\" class=\"dataframe\">\n",
              "  <thead>\n",
              "    <tr style=\"text-align: right;\">\n",
              "      <th></th>\n",
              "      <th>x</th>\n",
              "      <th>y</th>\n",
              "      <th>z</th>\n",
              "    </tr>\n",
              "  </thead>\n",
              "  <tbody>\n",
              "    <tr>\n",
              "      <th>ID_0</th>\n",
              "      <td>1.541628</td>\n",
              "      <td>7.400497</td>\n",
              "      <td>2.633150</td>\n",
              "    </tr>\n",
              "    <tr>\n",
              "      <th>ID_1</th>\n",
              "      <td>5.337394</td>\n",
              "      <td>0.145750</td>\n",
              "      <td>9.187470</td>\n",
              "    </tr>\n",
              "    <tr>\n",
              "      <th>ID_2</th>\n",
              "      <td>9.007149</td>\n",
              "      <td>0.334214</td>\n",
              "      <td>9.569493</td>\n",
              "    </tr>\n",
              "    <tr>\n",
              "      <th>ID_3</th>\n",
              "      <td>1.372093</td>\n",
              "      <td>2.838284</td>\n",
              "      <td>6.060832</td>\n",
              "    </tr>\n",
              "    <tr>\n",
              "      <th>ID_4</th>\n",
              "      <td>9.442251</td>\n",
              "      <td>8.527355</td>\n",
              "      <td>0.022592</td>\n",
              "    </tr>\n",
              "  </tbody>\n",
              "</table>\n",
              "</div>"
            ],
            "text/plain": [
              "             x         y         z\n",
              "ID_0  1.541628  7.400497  2.633150\n",
              "ID_1  5.337394  0.145750  9.187470\n",
              "ID_2  9.007149  0.334214  9.569493\n",
              "ID_3  1.372093  2.838284  6.060832\n",
              "ID_4  9.442251  8.527355  0.022592"
            ]
          },
          "metadata": {
            "tags": []
          },
          "execution_count": 7
        }
      ]
    },
    {
      "cell_type": "code",
      "metadata": {
        "colab": {
          "base_uri": "https://localhost:8080/",
          "height": 204
        },
        "id": "AKJraXf44j5k",
        "outputId": "4a746e70-045f-4fa5-d090-1ab6de125756"
      },
      "source": [
        "from scipy.spatial.distance import pdist, squareform\n",
        "\n",
        "row_dist = pd.DataFrame(squareform(pdist(df, metric='euclidean')), columns=labels, index=labels)\n",
        "row_dist"
      ],
      "execution_count": 8,
      "outputs": [
        {
          "output_type": "execute_result",
          "data": {
            "text/html": [
              "<div>\n",
              "<style scoped>\n",
              "    .dataframe tbody tr th:only-of-type {\n",
              "        vertical-align: middle;\n",
              "    }\n",
              "\n",
              "    .dataframe tbody tr th {\n",
              "        vertical-align: top;\n",
              "    }\n",
              "\n",
              "    .dataframe thead th {\n",
              "        text-align: right;\n",
              "    }\n",
              "</style>\n",
              "<table border=\"1\" class=\"dataframe\">\n",
              "  <thead>\n",
              "    <tr style=\"text-align: right;\">\n",
              "      <th></th>\n",
              "      <th>ID_0</th>\n",
              "      <th>ID_1</th>\n",
              "      <th>ID_2</th>\n",
              "      <th>ID_3</th>\n",
              "      <th>ID_4</th>\n",
              "    </tr>\n",
              "  </thead>\n",
              "  <tbody>\n",
              "    <tr>\n",
              "      <th>ID_0</th>\n",
              "      <td>0.000000</td>\n",
              "      <td>10.488008</td>\n",
              "      <td>12.400774</td>\n",
              "      <td>5.708900</td>\n",
              "      <td>8.396706</td>\n",
              "    </tr>\n",
              "    <tr>\n",
              "      <th>ID_1</th>\n",
              "      <td>10.488008</td>\n",
              "      <td>0.000000</td>\n",
              "      <td>3.694396</td>\n",
              "      <td>5.722693</td>\n",
              "      <td>13.080373</td>\n",
              "    </tr>\n",
              "    <tr>\n",
              "      <th>ID_2</th>\n",
              "      <td>12.400774</td>\n",
              "      <td>3.694396</td>\n",
              "      <td>0.000000</td>\n",
              "      <td>8.767847</td>\n",
              "      <td>12.588097</td>\n",
              "    </tr>\n",
              "    <tr>\n",
              "      <th>ID_3</th>\n",
              "      <td>5.708900</td>\n",
              "      <td>5.722693</td>\n",
              "      <td>8.767847</td>\n",
              "      <td>0.000000</td>\n",
              "      <td>11.573821</td>\n",
              "    </tr>\n",
              "    <tr>\n",
              "      <th>ID_4</th>\n",
              "      <td>8.396706</td>\n",
              "      <td>13.080373</td>\n",
              "      <td>12.588097</td>\n",
              "      <td>11.573821</td>\n",
              "      <td>0.000000</td>\n",
              "    </tr>\n",
              "  </tbody>\n",
              "</table>\n",
              "</div>"
            ],
            "text/plain": [
              "           ID_0       ID_1       ID_2       ID_3       ID_4\n",
              "ID_0   0.000000  10.488008  12.400774   5.708900   8.396706\n",
              "ID_1  10.488008   0.000000   3.694396   5.722693  13.080373\n",
              "ID_2  12.400774   3.694396   0.000000   8.767847  12.588097\n",
              "ID_3   5.708900   5.722693   8.767847   0.000000  11.573821\n",
              "ID_4   8.396706  13.080373  12.588097  11.573821   0.000000"
            ]
          },
          "metadata": {
            "tags": []
          },
          "execution_count": 8
        }
      ]
    },
    {
      "cell_type": "code",
      "metadata": {
        "id": "vQ_QJrPNWmfP"
      },
      "source": [
        "from scipy.cluster.hierarchy import linkage\n",
        "\n",
        "row_clusters = linkage(df, method='complete', metric='euclidean')\n",
        "\n",
        "row_clusters = linkage(df.values, method='complete', metric='euclidean')"
      ],
      "execution_count": 9,
      "outputs": []
    },
    {
      "cell_type": "code",
      "metadata": {
        "colab": {
          "base_uri": "https://localhost:8080/",
          "height": 173
        },
        "id": "t4QJlbieXLeo",
        "outputId": "69a457a6-6b79-43c7-bf09-e31dd0bda293"
      },
      "source": [
        "pd.DataFrame(row_clusters, columns=['row label 1', 'row label 2', 'distance', 'item no'],\n",
        "             index=['cluster %d' %(i+1) for i in range(row_clusters.shape[0])])"
      ],
      "execution_count": 10,
      "outputs": [
        {
          "output_type": "execute_result",
          "data": {
            "text/html": [
              "<div>\n",
              "<style scoped>\n",
              "    .dataframe tbody tr th:only-of-type {\n",
              "        vertical-align: middle;\n",
              "    }\n",
              "\n",
              "    .dataframe tbody tr th {\n",
              "        vertical-align: top;\n",
              "    }\n",
              "\n",
              "    .dataframe thead th {\n",
              "        text-align: right;\n",
              "    }\n",
              "</style>\n",
              "<table border=\"1\" class=\"dataframe\">\n",
              "  <thead>\n",
              "    <tr style=\"text-align: right;\">\n",
              "      <th></th>\n",
              "      <th>row label 1</th>\n",
              "      <th>row label 2</th>\n",
              "      <th>distance</th>\n",
              "      <th>item no</th>\n",
              "    </tr>\n",
              "  </thead>\n",
              "  <tbody>\n",
              "    <tr>\n",
              "      <th>cluster 1</th>\n",
              "      <td>1.0</td>\n",
              "      <td>2.0</td>\n",
              "      <td>3.694396</td>\n",
              "      <td>2.0</td>\n",
              "    </tr>\n",
              "    <tr>\n",
              "      <th>cluster 2</th>\n",
              "      <td>0.0</td>\n",
              "      <td>3.0</td>\n",
              "      <td>5.708900</td>\n",
              "      <td>2.0</td>\n",
              "    </tr>\n",
              "    <tr>\n",
              "      <th>cluster 3</th>\n",
              "      <td>4.0</td>\n",
              "      <td>6.0</td>\n",
              "      <td>11.573821</td>\n",
              "      <td>3.0</td>\n",
              "    </tr>\n",
              "    <tr>\n",
              "      <th>cluster 4</th>\n",
              "      <td>5.0</td>\n",
              "      <td>7.0</td>\n",
              "      <td>13.080373</td>\n",
              "      <td>5.0</td>\n",
              "    </tr>\n",
              "  </tbody>\n",
              "</table>\n",
              "</div>"
            ],
            "text/plain": [
              "           row label 1  row label 2   distance  item no\n",
              "cluster 1          1.0          2.0   3.694396      2.0\n",
              "cluster 2          0.0          3.0   5.708900      2.0\n",
              "cluster 3          4.0          6.0  11.573821      3.0\n",
              "cluster 4          5.0          7.0  13.080373      5.0"
            ]
          },
          "metadata": {
            "tags": []
          },
          "execution_count": 10
        }
      ]
    },
    {
      "cell_type": "code",
      "metadata": {
        "colab": {
          "base_uri": "https://localhost:8080/",
          "height": 297
        },
        "id": "Qq2SH9JWXhs2",
        "outputId": "058d3401-27d6-4d37-c3bb-8f836ad65ba9"
      },
      "source": [
        "from scipy.cluster.hierarchy import dendrogram\n",
        "import matplotlib.pyplot as plt\n",
        "\n",
        "row_dendrogram = dendrogram(row_clusters, labels=labels)\n",
        "plt.tight_layout()\n",
        "plt.ylabel('Euclidean Distance')\n",
        "plt.show()"
      ],
      "execution_count": 11,
      "outputs": [
        {
          "output_type": "display_data",
          "data": {
            "image/png": "[encoded data removed]",
            "text/plain": [
              "<Figure size 432x288 with 1 Axes>"
            ]
          },
          "metadata": {
            "tags": [],
            "needs_background": "light"
          }
        }
      ]
    },
    {
      "cell_type": "code",
      "metadata": {
        "colab": {
          "base_uri": "https://localhost:8080/"
        },
        "id": "h7l0FdlCX8nJ",
        "outputId": "f12e5e62-3b82-4f5f-dbba-03cfad584b7a"
      },
      "source": [
        "from sklearn.cluster import AgglomerativeClustering\n",
        "\n",
        "ac = AgglomerativeClustering(n_clusters=3, affinity='euclidean', linkage='complete')\n",
        "lables = ac.fit_predict(x)\n",
        "print('클러스터 레이블: %s' %lables)"
      ],
      "execution_count": 13,
      "outputs": [
        {
          "output_type": "stream",
          "text": [
            "클러스터 레이블: [0 1 1 0 2]\n"
          ],
          "name": "stdout"
        }
      ]
    },
    {
      "cell_type": "code",
      "metadata": {
        "colab": {
          "base_uri": "https://localhost:8080/"
        },
        "id": "0S3rVUU3YRyg",
        "outputId": "81d0729c-d49e-4b7f-a9fa-8d74f4b11add"
      },
      "source": [
        "ac = AgglomerativeClustering(n_clusters=2, affinity='euclidean', linkage='complete')\n",
        "lables = ac.fit_predict(x)\n",
        "print('클러스터 레이블: %s' %lables)"
      ],
      "execution_count": 14,
      "outputs": [
        {
          "output_type": "stream",
          "text": [
            "클러스터 레이블: [0 1 1 0 0]\n"
          ],
          "name": "stdout"
        }
      ]
    }
  ]
}